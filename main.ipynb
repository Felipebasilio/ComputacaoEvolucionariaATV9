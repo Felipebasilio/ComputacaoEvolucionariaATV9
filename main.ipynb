{
 "cells": [
  {
   "cell_type": "code",
   "execution_count": 1,
   "id": "2a69d792-eb2f-45cd-bbb9-ad6b65b148cf",
   "metadata": {},
   "outputs": [
    {
     "name": "stdout",
     "output_type": "stream",
     "text": [
      "Best path: [3, 0, 1, 2, 4, 3]\n",
      "Best path length: 9.8\n"
     ]
    }
   ],
   "source": [
    "import numpy as np\n",
    "import random\n",
    "\n",
    "# Distâncias entre as cidades da tabela fornecida\n",
    "distances = np.array([\n",
    "    [0.0, 1.0, 2.2, 2.0, 4.1],\n",
    "    [1.0, 0.0, 1.4, 2.2, 4.0],\n",
    "    [2.2, 1.4, 0.0, 2.2, 3.2],\n",
    "    [2.0, 2.2, 2.2, 0.0, 2.2],\n",
    "    [4.1, 4.0, 3.2, 2.2, 0.0]\n",
    "])\n",
    "\n",
    "# Inicializar a matriz de feromônio com valores aleatórios baixos\n",
    "pheromone = np.random.rand(5, 5) * 0.1 + 0.1\n",
    "\n",
    "# Parâmetros do ACO\n",
    "num_ants = 10\n",
    "num_iterations = 100\n",
    "decay = 0.1\n",
    "alpha = 1  # Influência do feromônio\n",
    "beta = 5   # Influência da distância inversa\n",
    "\n",
    "# Função para calcular a probabilidade de escolha da cidade\n",
    "def choice_prob(city_i, feasible_cities, pheromone, distances):\n",
    "    pheromone_power = pheromone[city_i][feasible_cities] ** alpha\n",
    "    distance_power = (1.0 / distances[city_i][feasible_cities]) ** beta\n",
    "    return pheromone_power * distance_power / np.sum(pheromone_power * distance_power)\n",
    "\n",
    "# Função para atualizar feromônio\n",
    "def update_pheromone(pheromone, paths, distances):\n",
    "    pheromone *= (1 - decay)\n",
    "    for path in paths:\n",
    "        length = sum(distances[path[i]][path[i+1]] for i in range(-1, len(path)-1))\n",
    "        for i in range(-1, len(path)-1):\n",
    "            pheromone[path[i]][path[i+1]] += 1.0 / length\n",
    "\n",
    "# Algoritmo principal\n",
    "best_path = None\n",
    "best_length = float('inf')\n",
    "for iteration in range(num_iterations):\n",
    "    paths = []\n",
    "    for _ in range(num_ants):\n",
    "        path = [random.randint(0, 4)]  # Comece em uma cidade aleatória\n",
    "        while len(path) < 5:\n",
    "            next_cities = [c for c in range(5) if c not in path]\n",
    "            probs = choice_prob(path[-1], next_cities, pheromone, distances)\n",
    "            next_city = np.random.choice(next_cities, p=probs)\n",
    "            path.append(next_city)\n",
    "        path.append(path[0])  # Voltar à cidade inicial\n",
    "        paths.append(path)\n",
    "        length = sum(distances[path[i]][path[i+1]] for i in range(len(path)-1))\n",
    "        if length < best_length:\n",
    "            best_path, best_length = path, length\n",
    "    update_pheromone(pheromone, paths, distances)\n",
    "\n",
    "print(\"Best path:\", best_path)\n",
    "print(\"Best path length:\", best_length)\n"
   ]
  },
  {
   "cell_type": "code",
   "execution_count": null,
   "id": "5c5cc605-5d35-4654-8e94-638f5d1f2a27",
   "metadata": {},
   "outputs": [],
   "source": []
  }
 ],
 "metadata": {
  "kernelspec": {
   "display_name": "Python 3 (ipykernel)",
   "language": "python",
   "name": "python3"
  },
  "language_info": {
   "codemirror_mode": {
    "name": "ipython",
    "version": 3
   },
   "file_extension": ".py",
   "mimetype": "text/x-python",
   "name": "python",
   "nbconvert_exporter": "python",
   "pygments_lexer": "ipython3",
   "version": "3.11.7"
  }
 },
 "nbformat": 4,
 "nbformat_minor": 5
}
